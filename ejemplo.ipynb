{
 "cells": [
  {
   "cell_type": "code",
   "execution_count": 127,
   "id": "0a396884",
   "metadata": {},
   "outputs": [],
   "source": [
    "import pandas as pd\n",
    "import numpy as np"
   ]
  },
  {
   "cell_type": "code",
   "execution_count": 128,
   "id": "289a85ac",
   "metadata": {},
   "outputs": [],
   "source": [
    "df = pd.read_excel(r\"C:\\Users\\Roman\\OneDrive\\Documentos\\repositorio ROM\\repositorio-henry-2\\Dataset\\bd_integrantes_Esp.xlsx\")"
   ]
  },
  {
   "cell_type": "code",
   "execution_count": 129,
   "id": "4dba963e",
   "metadata": {},
   "outputs": [
    {
     "data": {
      "application/vnd.microsoft.datawrangler.viewer.v0+json": {
       "columns": [
        {
         "name": "index",
         "rawType": "int64",
         "type": "integer"
        },
        {
         "name": "Nombre de los miembros",
         "rawType": "object",
         "type": "string"
        },
        {
         "name": "ID",
         "rawType": "object",
         "type": "string"
        },
        {
         "name": "Salario-Cargo",
         "rawType": "object",
         "type": "string"
        },
        {
         "name": "Fecha Nacimiento",
         "rawType": "datetime64[ns]",
         "type": "datetime"
        },
        {
         "name": "Edad",
         "rawType": "int64",
         "type": "integer"
        },
        {
         "name": "Sexo",
         "rawType": "object",
         "type": "string"
        },
        {
         "name": "Fecha de contratación",
         "rawType": "datetime64[ns]",
         "type": "datetime"
        },
        {
         "name": "Fecha salida",
         "rawType": "float64",
         "type": "float"
        },
        {
         "name": "Status do Integrante",
         "rawType": "object",
         "type": "string"
        },
        {
         "name": "Departamento",
         "rawType": "object",
         "type": "string"
        },
        {
         "name": "Reclutamiento de fuentes",
         "rawType": "object",
         "type": "string"
        },
        {
         "name": "Registro de desempeño",
         "rawType": "object",
         "type": "string"
        },
        {
         "name": "Índice de satisfacción",
         "rawType": "float64",
         "type": "float"
        }
       ],
       "ref": "24d084e1-37f5-43e3-a61a-ae705c06d1c3",
       "rows": [
        [
         "0",
         "Isis",
         "A1304055947",
         "5060-Técnico de Producción I",
         "1982-05-21 00:00:00",
         "38",
         "F",
         "2015-09-01 00:00:00",
         null,
         "Ativo",
         "dpt1",
         "Página Web compañía",
         "Arriba",
         "5.0"
        ],
        [
         "1",
         "Emanuel",
         "A1109029366",
         "3520-Técnico de Producción I",
         "1975-12-21 00:00:00",
         "45",
         "M",
         "2015-02-03 00:00:00",
         null,
         "Ativo",
         "dpt1",
         "Recomendación empleados",
         "Dentro de lo esperado",
         "3.0"
        ],
        [
         "2",
         "Vinícius",
         "A1501072124",
         "4400-Técnico de Producción I",
         "1972-04-17 00:00:00",
         "49",
         "M",
         "2017-07-06 00:00:00",
         null,
         "Ativo",
         "dpt1",
         "Sitio web de empleo",
         "Abajo de lo esperado",
         "2.0"
        ],
        [
         "3",
         "João Guilherme",
         "A1302053339",
         "3960-Técnico de Producción I",
         "1994-10-17 00:00:00",
         "26",
         "M",
         "2018-11-04 00:00:00",
         null,
         "Ativo",
         "dpt1",
         "Sitio web de empleo",
         "Abajo de lo esperado",
         "4.0"
        ],
        [
         "4",
         "Luna",
         "A1204032927",
         "3520-Técnico de Producción I",
         "1985-08-04 00:00:00",
         "35",
         "F",
         "2017-09-28 00:00:00",
         null,
         "Ativo",
         "dpt1",
         "Feria de contratación",
         "Arriba",
         "4.0"
        ]
       ],
       "shape": {
        "columns": 13,
        "rows": 5
       }
      },
      "text/html": [
       "<div>\n",
       "<style scoped>\n",
       "    .dataframe tbody tr th:only-of-type {\n",
       "        vertical-align: middle;\n",
       "    }\n",
       "\n",
       "    .dataframe tbody tr th {\n",
       "        vertical-align: top;\n",
       "    }\n",
       "\n",
       "    .dataframe thead th {\n",
       "        text-align: right;\n",
       "    }\n",
       "</style>\n",
       "<table border=\"1\" class=\"dataframe\">\n",
       "  <thead>\n",
       "    <tr style=\"text-align: right;\">\n",
       "      <th></th>\n",
       "      <th>Nombre de los miembros</th>\n",
       "      <th>ID</th>\n",
       "      <th>Salario-Cargo</th>\n",
       "      <th>Fecha Nacimiento</th>\n",
       "      <th>Edad</th>\n",
       "      <th>Sexo</th>\n",
       "      <th>Fecha de contratación</th>\n",
       "      <th>Fecha salida</th>\n",
       "      <th>Status do Integrante</th>\n",
       "      <th>Departamento</th>\n",
       "      <th>Reclutamiento de fuentes</th>\n",
       "      <th>Registro de desempeño</th>\n",
       "      <th>Índice de satisfacción</th>\n",
       "    </tr>\n",
       "  </thead>\n",
       "  <tbody>\n",
       "    <tr>\n",
       "      <th>0</th>\n",
       "      <td>Isis</td>\n",
       "      <td>A1304055947</td>\n",
       "      <td>5060-Técnico de Producción I</td>\n",
       "      <td>1982-05-21</td>\n",
       "      <td>38</td>\n",
       "      <td>F</td>\n",
       "      <td>2015-09-01</td>\n",
       "      <td>NaN</td>\n",
       "      <td>Ativo</td>\n",
       "      <td>dpt1</td>\n",
       "      <td>Página Web compañía</td>\n",
       "      <td>Arriba</td>\n",
       "      <td>5.0</td>\n",
       "    </tr>\n",
       "    <tr>\n",
       "      <th>1</th>\n",
       "      <td>Emanuel</td>\n",
       "      <td>A1109029366</td>\n",
       "      <td>3520-Técnico de Producción I</td>\n",
       "      <td>1975-12-21</td>\n",
       "      <td>45</td>\n",
       "      <td>M</td>\n",
       "      <td>2015-02-03</td>\n",
       "      <td>NaN</td>\n",
       "      <td>Ativo</td>\n",
       "      <td>dpt1</td>\n",
       "      <td>Recomendación empleados</td>\n",
       "      <td>Dentro de lo esperado</td>\n",
       "      <td>3.0</td>\n",
       "    </tr>\n",
       "    <tr>\n",
       "      <th>2</th>\n",
       "      <td>Vinícius</td>\n",
       "      <td>A1501072124</td>\n",
       "      <td>4400-Técnico de Producción I</td>\n",
       "      <td>1972-04-17</td>\n",
       "      <td>49</td>\n",
       "      <td>M</td>\n",
       "      <td>2017-07-06</td>\n",
       "      <td>NaN</td>\n",
       "      <td>Ativo</td>\n",
       "      <td>dpt1</td>\n",
       "      <td>Sitio web de empleo</td>\n",
       "      <td>Abajo de lo esperado</td>\n",
       "      <td>2.0</td>\n",
       "    </tr>\n",
       "    <tr>\n",
       "      <th>3</th>\n",
       "      <td>João Guilherme</td>\n",
       "      <td>A1302053339</td>\n",
       "      <td>3960-Técnico de Producción I</td>\n",
       "      <td>1994-10-17</td>\n",
       "      <td>26</td>\n",
       "      <td>M</td>\n",
       "      <td>2018-11-04</td>\n",
       "      <td>NaN</td>\n",
       "      <td>Ativo</td>\n",
       "      <td>dpt1</td>\n",
       "      <td>Sitio web de empleo</td>\n",
       "      <td>Abajo de lo esperado</td>\n",
       "      <td>4.0</td>\n",
       "    </tr>\n",
       "    <tr>\n",
       "      <th>4</th>\n",
       "      <td>Luna</td>\n",
       "      <td>A1204032927</td>\n",
       "      <td>3520-Técnico de Producción I</td>\n",
       "      <td>1985-08-04</td>\n",
       "      <td>35</td>\n",
       "      <td>F</td>\n",
       "      <td>2017-09-28</td>\n",
       "      <td>NaN</td>\n",
       "      <td>Ativo</td>\n",
       "      <td>dpt1</td>\n",
       "      <td>Feria de contratación</td>\n",
       "      <td>Arriba</td>\n",
       "      <td>4.0</td>\n",
       "    </tr>\n",
       "  </tbody>\n",
       "</table>\n",
       "</div>"
      ],
      "text/plain": [
       "  Nombre de los miembros           ID                 Salario-Cargo  \\\n",
       "0                   Isis  A1304055947  5060-Técnico de Producción I   \n",
       "1                Emanuel  A1109029366  3520-Técnico de Producción I   \n",
       "2               Vinícius  A1501072124  4400-Técnico de Producción I   \n",
       "3         João Guilherme  A1302053339  3960-Técnico de Producción I   \n",
       "4                   Luna  A1204032927  3520-Técnico de Producción I   \n",
       "\n",
       "  Fecha Nacimiento  Edad Sexo Fecha de contratación  Fecha salida  \\\n",
       "0       1982-05-21    38    F            2015-09-01           NaN   \n",
       "1       1975-12-21    45    M            2015-02-03           NaN   \n",
       "2       1972-04-17    49    M            2017-07-06           NaN   \n",
       "3       1994-10-17    26    M            2018-11-04           NaN   \n",
       "4       1985-08-04    35    F            2017-09-28           NaN   \n",
       "\n",
       "  Status do Integrante Departamento Reclutamiento de fuentes  \\\n",
       "0                Ativo         dpt1      Página Web compañía   \n",
       "1                Ativo         dpt1  Recomendación empleados   \n",
       "2                Ativo         dpt1      Sitio web de empleo   \n",
       "3                Ativo         dpt1      Sitio web de empleo   \n",
       "4                Ativo         dpt1    Feria de contratación   \n",
       "\n",
       "   Registro de desempeño  Índice de satisfacción  \n",
       "0                 Arriba                     5.0  \n",
       "1  Dentro de lo esperado                     3.0  \n",
       "2   Abajo de lo esperado                     2.0  \n",
       "3   Abajo de lo esperado                     4.0  \n",
       "4                 Arriba                     4.0  "
      ]
     },
     "execution_count": 129,
     "metadata": {},
     "output_type": "execute_result"
    }
   ],
   "source": [
    "df.head()"
   ]
  },
  {
   "cell_type": "code",
   "execution_count": 130,
   "id": "6e7ff37e",
   "metadata": {},
   "outputs": [],
   "source": [
    "df['Status do Integrante'] = df['Status do Integrante'].replace({'Ativo' : 'Activo'}) "
   ]
  },
  {
   "cell_type": "code",
   "execution_count": 131,
   "id": "7f401904",
   "metadata": {},
   "outputs": [
    {
     "data": {
      "application/vnd.microsoft.datawrangler.viewer.v0+json": {
       "columns": [
        {
         "name": "index",
         "rawType": "int64",
         "type": "integer"
        },
        {
         "name": "Nombre de los miembros",
         "rawType": "object",
         "type": "string"
        },
        {
         "name": "ID",
         "rawType": "object",
         "type": "string"
        },
        {
         "name": "Salario-Cargo",
         "rawType": "object",
         "type": "string"
        },
        {
         "name": "Fecha Nacimiento",
         "rawType": "datetime64[ns]",
         "type": "datetime"
        },
        {
         "name": "Edad",
         "rawType": "int64",
         "type": "integer"
        },
        {
         "name": "Sexo",
         "rawType": "object",
         "type": "string"
        },
        {
         "name": "Fecha de contratación",
         "rawType": "datetime64[ns]",
         "type": "datetime"
        },
        {
         "name": "Fecha salida",
         "rawType": "float64",
         "type": "float"
        },
        {
         "name": "Status do Integrante",
         "rawType": "object",
         "type": "string"
        },
        {
         "name": "Departamento",
         "rawType": "object",
         "type": "string"
        },
        {
         "name": "Reclutamiento de fuentes",
         "rawType": "object",
         "type": "string"
        },
        {
         "name": "Registro de desempeño",
         "rawType": "object",
         "type": "string"
        },
        {
         "name": "Índice de satisfacción",
         "rawType": "float64",
         "type": "float"
        }
       ],
       "ref": "34b7fe8e-0bbb-491d-8058-c693d7b964ec",
       "rows": [
        [
         "0",
         "Isis",
         "A1304055947",
         "5060-Técnico de Producción I",
         "1982-05-21 00:00:00",
         "38",
         "F",
         "2015-09-01 00:00:00",
         null,
         "Activo",
         "dpt1",
         "Página Web compañía",
         "Arriba",
         "5.0"
        ],
        [
         "1",
         "Emanuel",
         "A1109029366",
         "3520-Técnico de Producción I",
         "1975-12-21 00:00:00",
         "45",
         "M",
         "2015-02-03 00:00:00",
         null,
         "Activo",
         "dpt1",
         "Recomendación empleados",
         "Dentro de lo esperado",
         "3.0"
        ],
        [
         "2",
         "Vinícius",
         "A1501072124",
         "4400-Técnico de Producción I",
         "1972-04-17 00:00:00",
         "49",
         "M",
         "2017-07-06 00:00:00",
         null,
         "Activo",
         "dpt1",
         "Sitio web de empleo",
         "Abajo de lo esperado",
         "2.0"
        ],
        [
         "3",
         "João Guilherme",
         "A1302053339",
         "3960-Técnico de Producción I",
         "1994-10-17 00:00:00",
         "26",
         "M",
         "2018-11-04 00:00:00",
         null,
         "Activo",
         "dpt1",
         "Sitio web de empleo",
         "Abajo de lo esperado",
         "4.0"
        ],
        [
         "4",
         "Luna",
         "A1204032927",
         "3520-Técnico de Producción I",
         "1985-08-04 00:00:00",
         "35",
         "F",
         "2017-09-28 00:00:00",
         null,
         "Activo",
         "dpt1",
         "Feria de contratación",
         "Arriba",
         "4.0"
        ]
       ],
       "shape": {
        "columns": 13,
        "rows": 5
       }
      },
      "text/html": [
       "<div>\n",
       "<style scoped>\n",
       "    .dataframe tbody tr th:only-of-type {\n",
       "        vertical-align: middle;\n",
       "    }\n",
       "\n",
       "    .dataframe tbody tr th {\n",
       "        vertical-align: top;\n",
       "    }\n",
       "\n",
       "    .dataframe thead th {\n",
       "        text-align: right;\n",
       "    }\n",
       "</style>\n",
       "<table border=\"1\" class=\"dataframe\">\n",
       "  <thead>\n",
       "    <tr style=\"text-align: right;\">\n",
       "      <th></th>\n",
       "      <th>Nombre de los miembros</th>\n",
       "      <th>ID</th>\n",
       "      <th>Salario-Cargo</th>\n",
       "      <th>Fecha Nacimiento</th>\n",
       "      <th>Edad</th>\n",
       "      <th>Sexo</th>\n",
       "      <th>Fecha de contratación</th>\n",
       "      <th>Fecha salida</th>\n",
       "      <th>Status do Integrante</th>\n",
       "      <th>Departamento</th>\n",
       "      <th>Reclutamiento de fuentes</th>\n",
       "      <th>Registro de desempeño</th>\n",
       "      <th>Índice de satisfacción</th>\n",
       "    </tr>\n",
       "  </thead>\n",
       "  <tbody>\n",
       "    <tr>\n",
       "      <th>0</th>\n",
       "      <td>Isis</td>\n",
       "      <td>A1304055947</td>\n",
       "      <td>5060-Técnico de Producción I</td>\n",
       "      <td>1982-05-21</td>\n",
       "      <td>38</td>\n",
       "      <td>F</td>\n",
       "      <td>2015-09-01</td>\n",
       "      <td>NaN</td>\n",
       "      <td>Activo</td>\n",
       "      <td>dpt1</td>\n",
       "      <td>Página Web compañía</td>\n",
       "      <td>Arriba</td>\n",
       "      <td>5.0</td>\n",
       "    </tr>\n",
       "    <tr>\n",
       "      <th>1</th>\n",
       "      <td>Emanuel</td>\n",
       "      <td>A1109029366</td>\n",
       "      <td>3520-Técnico de Producción I</td>\n",
       "      <td>1975-12-21</td>\n",
       "      <td>45</td>\n",
       "      <td>M</td>\n",
       "      <td>2015-02-03</td>\n",
       "      <td>NaN</td>\n",
       "      <td>Activo</td>\n",
       "      <td>dpt1</td>\n",
       "      <td>Recomendación empleados</td>\n",
       "      <td>Dentro de lo esperado</td>\n",
       "      <td>3.0</td>\n",
       "    </tr>\n",
       "    <tr>\n",
       "      <th>2</th>\n",
       "      <td>Vinícius</td>\n",
       "      <td>A1501072124</td>\n",
       "      <td>4400-Técnico de Producción I</td>\n",
       "      <td>1972-04-17</td>\n",
       "      <td>49</td>\n",
       "      <td>M</td>\n",
       "      <td>2017-07-06</td>\n",
       "      <td>NaN</td>\n",
       "      <td>Activo</td>\n",
       "      <td>dpt1</td>\n",
       "      <td>Sitio web de empleo</td>\n",
       "      <td>Abajo de lo esperado</td>\n",
       "      <td>2.0</td>\n",
       "    </tr>\n",
       "    <tr>\n",
       "      <th>3</th>\n",
       "      <td>João Guilherme</td>\n",
       "      <td>A1302053339</td>\n",
       "      <td>3960-Técnico de Producción I</td>\n",
       "      <td>1994-10-17</td>\n",
       "      <td>26</td>\n",
       "      <td>M</td>\n",
       "      <td>2018-11-04</td>\n",
       "      <td>NaN</td>\n",
       "      <td>Activo</td>\n",
       "      <td>dpt1</td>\n",
       "      <td>Sitio web de empleo</td>\n",
       "      <td>Abajo de lo esperado</td>\n",
       "      <td>4.0</td>\n",
       "    </tr>\n",
       "    <tr>\n",
       "      <th>4</th>\n",
       "      <td>Luna</td>\n",
       "      <td>A1204032927</td>\n",
       "      <td>3520-Técnico de Producción I</td>\n",
       "      <td>1985-08-04</td>\n",
       "      <td>35</td>\n",
       "      <td>F</td>\n",
       "      <td>2017-09-28</td>\n",
       "      <td>NaN</td>\n",
       "      <td>Activo</td>\n",
       "      <td>dpt1</td>\n",
       "      <td>Feria de contratación</td>\n",
       "      <td>Arriba</td>\n",
       "      <td>4.0</td>\n",
       "    </tr>\n",
       "  </tbody>\n",
       "</table>\n",
       "</div>"
      ],
      "text/plain": [
       "  Nombre de los miembros           ID                 Salario-Cargo  \\\n",
       "0                   Isis  A1304055947  5060-Técnico de Producción I   \n",
       "1                Emanuel  A1109029366  3520-Técnico de Producción I   \n",
       "2               Vinícius  A1501072124  4400-Técnico de Producción I   \n",
       "3         João Guilherme  A1302053339  3960-Técnico de Producción I   \n",
       "4                   Luna  A1204032927  3520-Técnico de Producción I   \n",
       "\n",
       "  Fecha Nacimiento  Edad Sexo Fecha de contratación  Fecha salida  \\\n",
       "0       1982-05-21    38    F            2015-09-01           NaN   \n",
       "1       1975-12-21    45    M            2015-02-03           NaN   \n",
       "2       1972-04-17    49    M            2017-07-06           NaN   \n",
       "3       1994-10-17    26    M            2018-11-04           NaN   \n",
       "4       1985-08-04    35    F            2017-09-28           NaN   \n",
       "\n",
       "  Status do Integrante Departamento Reclutamiento de fuentes  \\\n",
       "0               Activo         dpt1      Página Web compañía   \n",
       "1               Activo         dpt1  Recomendación empleados   \n",
       "2               Activo         dpt1      Sitio web de empleo   \n",
       "3               Activo         dpt1      Sitio web de empleo   \n",
       "4               Activo         dpt1    Feria de contratación   \n",
       "\n",
       "   Registro de desempeño  Índice de satisfacción  \n",
       "0                 Arriba                     5.0  \n",
       "1  Dentro de lo esperado                     3.0  \n",
       "2   Abajo de lo esperado                     2.0  \n",
       "3   Abajo de lo esperado                     4.0  \n",
       "4                 Arriba                     4.0  "
      ]
     },
     "execution_count": 131,
     "metadata": {},
     "output_type": "execute_result"
    }
   ],
   "source": [
    "df.head()"
   ]
  },
  {
   "cell_type": "code",
   "execution_count": 132,
   "id": "d3cf78aa",
   "metadata": {},
   "outputs": [],
   "source": [
    "df = df.drop(columns=['Status do Integrante', 'Fecha salida'], axis=1)"
   ]
  },
  {
   "cell_type": "code",
   "execution_count": 133,
   "id": "b2983295",
   "metadata": {},
   "outputs": [],
   "source": [
    "df['Registro de desempeño'] = df['Registro de desempeño'].replace({'Arriba' : 'Arriba de lo esperado'})"
   ]
  },
  {
   "cell_type": "code",
   "execution_count": 134,
   "id": "fb56d5d3",
   "metadata": {},
   "outputs": [
    {
     "data": {
      "application/vnd.microsoft.datawrangler.viewer.v0+json": {
       "columns": [
        {
         "name": "index",
         "rawType": "int64",
         "type": "integer"
        },
        {
         "name": "Nombre de los miembros",
         "rawType": "object",
         "type": "string"
        },
        {
         "name": "ID",
         "rawType": "object",
         "type": "string"
        },
        {
         "name": "Salario-Cargo",
         "rawType": "object",
         "type": "string"
        },
        {
         "name": "Fecha Nacimiento",
         "rawType": "datetime64[ns]",
         "type": "datetime"
        },
        {
         "name": "Edad",
         "rawType": "int64",
         "type": "integer"
        },
        {
         "name": "Sexo",
         "rawType": "object",
         "type": "string"
        },
        {
         "name": "Fecha de contratación",
         "rawType": "datetime64[ns]",
         "type": "datetime"
        },
        {
         "name": "Departamento",
         "rawType": "object",
         "type": "string"
        },
        {
         "name": "Reclutamiento de fuentes",
         "rawType": "object",
         "type": "string"
        },
        {
         "name": "Registro de desempeño",
         "rawType": "object",
         "type": "string"
        },
        {
         "name": "Índice de satisfacción",
         "rawType": "float64",
         "type": "float"
        }
       ],
       "ref": "5a14e597-2874-4843-a8ae-4252eef67599",
       "rows": [
        [
         "0",
         "Isis",
         "A1304055947",
         "5060-Técnico de Producción I",
         "1982-05-21 00:00:00",
         "38",
         "F",
         "2015-09-01 00:00:00",
         "dpt1",
         "Página Web compañía",
         "Arriba de lo esperado",
         "5.0"
        ],
        [
         "1",
         "Emanuel",
         "A1109029366",
         "3520-Técnico de Producción I",
         "1975-12-21 00:00:00",
         "45",
         "M",
         "2015-02-03 00:00:00",
         "dpt1",
         "Recomendación empleados",
         "Dentro de lo esperado",
         "3.0"
        ],
        [
         "2",
         "Vinícius",
         "A1501072124",
         "4400-Técnico de Producción I",
         "1972-04-17 00:00:00",
         "49",
         "M",
         "2017-07-06 00:00:00",
         "dpt1",
         "Sitio web de empleo",
         "Abajo de lo esperado",
         "2.0"
        ],
        [
         "3",
         "João Guilherme",
         "A1302053339",
         "3960-Técnico de Producción I",
         "1994-10-17 00:00:00",
         "26",
         "M",
         "2018-11-04 00:00:00",
         "dpt1",
         "Sitio web de empleo",
         "Abajo de lo esperado",
         "4.0"
        ],
        [
         "4",
         "Luna",
         "A1204032927",
         "3520-Técnico de Producción I",
         "1985-08-04 00:00:00",
         "35",
         "F",
         "2017-09-28 00:00:00",
         "dpt1",
         "Feria de contratación",
         "Arriba de lo esperado",
         "4.0"
        ]
       ],
       "shape": {
        "columns": 11,
        "rows": 5
       }
      },
      "text/html": [
       "<div>\n",
       "<style scoped>\n",
       "    .dataframe tbody tr th:only-of-type {\n",
       "        vertical-align: middle;\n",
       "    }\n",
       "\n",
       "    .dataframe tbody tr th {\n",
       "        vertical-align: top;\n",
       "    }\n",
       "\n",
       "    .dataframe thead th {\n",
       "        text-align: right;\n",
       "    }\n",
       "</style>\n",
       "<table border=\"1\" class=\"dataframe\">\n",
       "  <thead>\n",
       "    <tr style=\"text-align: right;\">\n",
       "      <th></th>\n",
       "      <th>Nombre de los miembros</th>\n",
       "      <th>ID</th>\n",
       "      <th>Salario-Cargo</th>\n",
       "      <th>Fecha Nacimiento</th>\n",
       "      <th>Edad</th>\n",
       "      <th>Sexo</th>\n",
       "      <th>Fecha de contratación</th>\n",
       "      <th>Departamento</th>\n",
       "      <th>Reclutamiento de fuentes</th>\n",
       "      <th>Registro de desempeño</th>\n",
       "      <th>Índice de satisfacción</th>\n",
       "    </tr>\n",
       "  </thead>\n",
       "  <tbody>\n",
       "    <tr>\n",
       "      <th>0</th>\n",
       "      <td>Isis</td>\n",
       "      <td>A1304055947</td>\n",
       "      <td>5060-Técnico de Producción I</td>\n",
       "      <td>1982-05-21</td>\n",
       "      <td>38</td>\n",
       "      <td>F</td>\n",
       "      <td>2015-09-01</td>\n",
       "      <td>dpt1</td>\n",
       "      <td>Página Web compañía</td>\n",
       "      <td>Arriba de lo esperado</td>\n",
       "      <td>5.0</td>\n",
       "    </tr>\n",
       "    <tr>\n",
       "      <th>1</th>\n",
       "      <td>Emanuel</td>\n",
       "      <td>A1109029366</td>\n",
       "      <td>3520-Técnico de Producción I</td>\n",
       "      <td>1975-12-21</td>\n",
       "      <td>45</td>\n",
       "      <td>M</td>\n",
       "      <td>2015-02-03</td>\n",
       "      <td>dpt1</td>\n",
       "      <td>Recomendación empleados</td>\n",
       "      <td>Dentro de lo esperado</td>\n",
       "      <td>3.0</td>\n",
       "    </tr>\n",
       "    <tr>\n",
       "      <th>2</th>\n",
       "      <td>Vinícius</td>\n",
       "      <td>A1501072124</td>\n",
       "      <td>4400-Técnico de Producción I</td>\n",
       "      <td>1972-04-17</td>\n",
       "      <td>49</td>\n",
       "      <td>M</td>\n",
       "      <td>2017-07-06</td>\n",
       "      <td>dpt1</td>\n",
       "      <td>Sitio web de empleo</td>\n",
       "      <td>Abajo de lo esperado</td>\n",
       "      <td>2.0</td>\n",
       "    </tr>\n",
       "    <tr>\n",
       "      <th>3</th>\n",
       "      <td>João Guilherme</td>\n",
       "      <td>A1302053339</td>\n",
       "      <td>3960-Técnico de Producción I</td>\n",
       "      <td>1994-10-17</td>\n",
       "      <td>26</td>\n",
       "      <td>M</td>\n",
       "      <td>2018-11-04</td>\n",
       "      <td>dpt1</td>\n",
       "      <td>Sitio web de empleo</td>\n",
       "      <td>Abajo de lo esperado</td>\n",
       "      <td>4.0</td>\n",
       "    </tr>\n",
       "    <tr>\n",
       "      <th>4</th>\n",
       "      <td>Luna</td>\n",
       "      <td>A1204032927</td>\n",
       "      <td>3520-Técnico de Producción I</td>\n",
       "      <td>1985-08-04</td>\n",
       "      <td>35</td>\n",
       "      <td>F</td>\n",
       "      <td>2017-09-28</td>\n",
       "      <td>dpt1</td>\n",
       "      <td>Feria de contratación</td>\n",
       "      <td>Arriba de lo esperado</td>\n",
       "      <td>4.0</td>\n",
       "    </tr>\n",
       "  </tbody>\n",
       "</table>\n",
       "</div>"
      ],
      "text/plain": [
       "  Nombre de los miembros           ID                 Salario-Cargo  \\\n",
       "0                   Isis  A1304055947  5060-Técnico de Producción I   \n",
       "1                Emanuel  A1109029366  3520-Técnico de Producción I   \n",
       "2               Vinícius  A1501072124  4400-Técnico de Producción I   \n",
       "3         João Guilherme  A1302053339  3960-Técnico de Producción I   \n",
       "4                   Luna  A1204032927  3520-Técnico de Producción I   \n",
       "\n",
       "  Fecha Nacimiento  Edad Sexo Fecha de contratación Departamento  \\\n",
       "0       1982-05-21    38    F            2015-09-01         dpt1   \n",
       "1       1975-12-21    45    M            2015-02-03         dpt1   \n",
       "2       1972-04-17    49    M            2017-07-06         dpt1   \n",
       "3       1994-10-17    26    M            2018-11-04         dpt1   \n",
       "4       1985-08-04    35    F            2017-09-28         dpt1   \n",
       "\n",
       "  Reclutamiento de fuentes  Registro de desempeño  Índice de satisfacción  \n",
       "0      Página Web compañía  Arriba de lo esperado                     5.0  \n",
       "1  Recomendación empleados  Dentro de lo esperado                     3.0  \n",
       "2      Sitio web de empleo   Abajo de lo esperado                     2.0  \n",
       "3      Sitio web de empleo   Abajo de lo esperado                     4.0  \n",
       "4    Feria de contratación  Arriba de lo esperado                     4.0  "
      ]
     },
     "execution_count": 134,
     "metadata": {},
     "output_type": "execute_result"
    }
   ],
   "source": [
    "df.head()"
   ]
  },
  {
   "cell_type": "code",
   "execution_count": 135,
   "id": "4ede1e7e",
   "metadata": {},
   "outputs": [],
   "source": [
    "df['Salario-Cargo'] = df['Salario-Cargo'].str.strip()\n"
   ]
  },
  {
   "cell_type": "code",
   "execution_count": 136,
   "id": "8ccc3f27",
   "metadata": {},
   "outputs": [],
   "source": [
    "df[['Salario', 'Cargo']] = df['Salario-Cargo'].str.split('-', expand=True)\n"
   ]
  },
  {
   "cell_type": "code",
   "execution_count": 139,
   "id": "e63c053e",
   "metadata": {},
   "outputs": [],
   "source": [
    "df = df.drop(columns=['Salario-Cargo'], axis=1)"
   ]
  },
  {
   "cell_type": "code",
   "execution_count": 140,
   "id": "3e219a78",
   "metadata": {},
   "outputs": [
    {
     "data": {
      "application/vnd.microsoft.datawrangler.viewer.v0+json": {
       "columns": [
        {
         "name": "index",
         "rawType": "int64",
         "type": "integer"
        },
        {
         "name": "Nombre de los miembros",
         "rawType": "object",
         "type": "string"
        },
        {
         "name": "ID",
         "rawType": "object",
         "type": "string"
        },
        {
         "name": "Fecha Nacimiento",
         "rawType": "datetime64[ns]",
         "type": "datetime"
        },
        {
         "name": "Edad",
         "rawType": "int64",
         "type": "integer"
        },
        {
         "name": "Sexo",
         "rawType": "object",
         "type": "string"
        },
        {
         "name": "Fecha de contratación",
         "rawType": "datetime64[ns]",
         "type": "datetime"
        },
        {
         "name": "Departamento",
         "rawType": "object",
         "type": "string"
        },
        {
         "name": "Reclutamiento de fuentes",
         "rawType": "object",
         "type": "string"
        },
        {
         "name": "Registro de desempeño",
         "rawType": "object",
         "type": "string"
        },
        {
         "name": "Índice de satisfacción",
         "rawType": "float64",
         "type": "float"
        },
        {
         "name": "Salario",
         "rawType": "object",
         "type": "string"
        },
        {
         "name": "Cargo",
         "rawType": "object",
         "type": "string"
        }
       ],
       "ref": "72c7990f-b8b7-4a9e-a987-b0d57b1da36d",
       "rows": [
        [
         "0",
         "Isis",
         "A1304055947",
         "1982-05-21 00:00:00",
         "38",
         "F",
         "2015-09-01 00:00:00",
         "dpt1",
         "Página Web compañía",
         "Arriba de lo esperado",
         "5.0",
         "5060",
         "Técnico de Producción I"
        ],
        [
         "1",
         "Emanuel",
         "A1109029366",
         "1975-12-21 00:00:00",
         "45",
         "M",
         "2015-02-03 00:00:00",
         "dpt1",
         "Recomendación empleados",
         "Dentro de lo esperado",
         "3.0",
         "3520",
         "Técnico de Producción I"
        ],
        [
         "2",
         "Vinícius",
         "A1501072124",
         "1972-04-17 00:00:00",
         "49",
         "M",
         "2017-07-06 00:00:00",
         "dpt1",
         "Sitio web de empleo",
         "Abajo de lo esperado",
         "2.0",
         "4400",
         "Técnico de Producción I"
        ],
        [
         "3",
         "João Guilherme",
         "A1302053339",
         "1994-10-17 00:00:00",
         "26",
         "M",
         "2018-11-04 00:00:00",
         "dpt1",
         "Sitio web de empleo",
         "Abajo de lo esperado",
         "4.0",
         "3960",
         "Técnico de Producción I"
        ],
        [
         "4",
         "Luna",
         "A1204032927",
         "1985-08-04 00:00:00",
         "35",
         "F",
         "2017-09-28 00:00:00",
         "dpt1",
         "Feria de contratación",
         "Arriba de lo esperado",
         "4.0",
         "3520",
         "Técnico de Producción I"
        ]
       ],
       "shape": {
        "columns": 12,
        "rows": 5
       }
      },
      "text/html": [
       "<div>\n",
       "<style scoped>\n",
       "    .dataframe tbody tr th:only-of-type {\n",
       "        vertical-align: middle;\n",
       "    }\n",
       "\n",
       "    .dataframe tbody tr th {\n",
       "        vertical-align: top;\n",
       "    }\n",
       "\n",
       "    .dataframe thead th {\n",
       "        text-align: right;\n",
       "    }\n",
       "</style>\n",
       "<table border=\"1\" class=\"dataframe\">\n",
       "  <thead>\n",
       "    <tr style=\"text-align: right;\">\n",
       "      <th></th>\n",
       "      <th>Nombre de los miembros</th>\n",
       "      <th>ID</th>\n",
       "      <th>Fecha Nacimiento</th>\n",
       "      <th>Edad</th>\n",
       "      <th>Sexo</th>\n",
       "      <th>Fecha de contratación</th>\n",
       "      <th>Departamento</th>\n",
       "      <th>Reclutamiento de fuentes</th>\n",
       "      <th>Registro de desempeño</th>\n",
       "      <th>Índice de satisfacción</th>\n",
       "      <th>Salario</th>\n",
       "      <th>Cargo</th>\n",
       "    </tr>\n",
       "  </thead>\n",
       "  <tbody>\n",
       "    <tr>\n",
       "      <th>0</th>\n",
       "      <td>Isis</td>\n",
       "      <td>A1304055947</td>\n",
       "      <td>1982-05-21</td>\n",
       "      <td>38</td>\n",
       "      <td>F</td>\n",
       "      <td>2015-09-01</td>\n",
       "      <td>dpt1</td>\n",
       "      <td>Página Web compañía</td>\n",
       "      <td>Arriba de lo esperado</td>\n",
       "      <td>5.0</td>\n",
       "      <td>5060</td>\n",
       "      <td>Técnico de Producción I</td>\n",
       "    </tr>\n",
       "    <tr>\n",
       "      <th>1</th>\n",
       "      <td>Emanuel</td>\n",
       "      <td>A1109029366</td>\n",
       "      <td>1975-12-21</td>\n",
       "      <td>45</td>\n",
       "      <td>M</td>\n",
       "      <td>2015-02-03</td>\n",
       "      <td>dpt1</td>\n",
       "      <td>Recomendación empleados</td>\n",
       "      <td>Dentro de lo esperado</td>\n",
       "      <td>3.0</td>\n",
       "      <td>3520</td>\n",
       "      <td>Técnico de Producción I</td>\n",
       "    </tr>\n",
       "    <tr>\n",
       "      <th>2</th>\n",
       "      <td>Vinícius</td>\n",
       "      <td>A1501072124</td>\n",
       "      <td>1972-04-17</td>\n",
       "      <td>49</td>\n",
       "      <td>M</td>\n",
       "      <td>2017-07-06</td>\n",
       "      <td>dpt1</td>\n",
       "      <td>Sitio web de empleo</td>\n",
       "      <td>Abajo de lo esperado</td>\n",
       "      <td>2.0</td>\n",
       "      <td>4400</td>\n",
       "      <td>Técnico de Producción I</td>\n",
       "    </tr>\n",
       "    <tr>\n",
       "      <th>3</th>\n",
       "      <td>João Guilherme</td>\n",
       "      <td>A1302053339</td>\n",
       "      <td>1994-10-17</td>\n",
       "      <td>26</td>\n",
       "      <td>M</td>\n",
       "      <td>2018-11-04</td>\n",
       "      <td>dpt1</td>\n",
       "      <td>Sitio web de empleo</td>\n",
       "      <td>Abajo de lo esperado</td>\n",
       "      <td>4.0</td>\n",
       "      <td>3960</td>\n",
       "      <td>Técnico de Producción I</td>\n",
       "    </tr>\n",
       "    <tr>\n",
       "      <th>4</th>\n",
       "      <td>Luna</td>\n",
       "      <td>A1204032927</td>\n",
       "      <td>1985-08-04</td>\n",
       "      <td>35</td>\n",
       "      <td>F</td>\n",
       "      <td>2017-09-28</td>\n",
       "      <td>dpt1</td>\n",
       "      <td>Feria de contratación</td>\n",
       "      <td>Arriba de lo esperado</td>\n",
       "      <td>4.0</td>\n",
       "      <td>3520</td>\n",
       "      <td>Técnico de Producción I</td>\n",
       "    </tr>\n",
       "  </tbody>\n",
       "</table>\n",
       "</div>"
      ],
      "text/plain": [
       "  Nombre de los miembros           ID Fecha Nacimiento  Edad Sexo  \\\n",
       "0                   Isis  A1304055947       1982-05-21    38    F   \n",
       "1                Emanuel  A1109029366       1975-12-21    45    M   \n",
       "2               Vinícius  A1501072124       1972-04-17    49    M   \n",
       "3         João Guilherme  A1302053339       1994-10-17    26    M   \n",
       "4                   Luna  A1204032927       1985-08-04    35    F   \n",
       "\n",
       "  Fecha de contratación Departamento Reclutamiento de fuentes  \\\n",
       "0            2015-09-01         dpt1      Página Web compañía   \n",
       "1            2015-02-03         dpt1  Recomendación empleados   \n",
       "2            2017-07-06         dpt1      Sitio web de empleo   \n",
       "3            2018-11-04         dpt1      Sitio web de empleo   \n",
       "4            2017-09-28         dpt1    Feria de contratación   \n",
       "\n",
       "   Registro de desempeño  Índice de satisfacción Salario  \\\n",
       "0  Arriba de lo esperado                     5.0    5060   \n",
       "1  Dentro de lo esperado                     3.0    3520   \n",
       "2   Abajo de lo esperado                     2.0    4400   \n",
       "3   Abajo de lo esperado                     4.0    3960   \n",
       "4  Arriba de lo esperado                     4.0    3520   \n",
       "\n",
       "                     Cargo  \n",
       "0  Técnico de Producción I  \n",
       "1  Técnico de Producción I  \n",
       "2  Técnico de Producción I  \n",
       "3  Técnico de Producción I  \n",
       "4  Técnico de Producción I  "
      ]
     },
     "execution_count": 140,
     "metadata": {},
     "output_type": "execute_result"
    }
   ],
   "source": [
    "df.head()"
   ]
  }
 ],
 "metadata": {
  "kernelspec": {
   "display_name": "Python 3",
   "language": "python",
   "name": "python3"
  },
  "language_info": {
   "codemirror_mode": {
    "name": "ipython",
    "version": 3
   },
   "file_extension": ".py",
   "mimetype": "text/x-python",
   "name": "python",
   "nbconvert_exporter": "python",
   "pygments_lexer": "ipython3",
   "version": "3.12.3"
  }
 },
 "nbformat": 4,
 "nbformat_minor": 5
}
