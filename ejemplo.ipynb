{
 "cells": [
  {
   "cell_type": "code",
   "execution_count": 1,
   "id": "0a396884",
   "metadata": {},
   "outputs": [],
   "source": [
    "import pandas as pd\n",
    "import numpy as np"
   ]
  },
  {
   "cell_type": "code",
   "execution_count": 2,
   "id": "289a85ac",
   "metadata": {},
   "outputs": [
    {
     "name": "stdout",
     "output_type": "stream",
     "text": [
      "['integrantes', 'departamentos']\n"
     ]
    }
   ],
   "source": [
    "ruta_archivo = (r\"C:\\Users\\Roman\\OneDrive\\Documentos\\repositorio ROM\\repositorio-henry-2\\Dataset\\bd_integrantes_Esp.xlsx\")\n",
    "xls = pd.ExcelFile(ruta_archivo, engine='openpyxl')\n",
    "hojas = xls.sheet_names\n",
    "print(hojas)"
   ]
  },
  {
   "cell_type": "markdown",
   "id": "55fa3184",
   "metadata": {},
   "source": [
    "cargar todas las hojas a la vez utilizando diccionarios\n"
   ]
  },
  {
   "cell_type": "code",
   "execution_count": 3,
   "id": "0e20a1ef",
   "metadata": {},
   "outputs": [],
   "source": [
    "datos_hojas = pd.read_excel(xls, sheet_name=None)\n"
   ]
  },
  {
   "cell_type": "code",
   "execution_count": null,
   "id": "a2b8476b",
   "metadata": {},
   "outputs": [
    {
     "name": "stdout",
     "output_type": "stream",
     "text": [
      "Procesando hoja: integrantes\n",
      "Procesando hoja: departamentos\n"
     ]
    }
   ],
   "source": [
    "# Aplicar ETL a cada hoja\n",
    "datos_transformados = {}\n",
    "\n",
    "for nombre_hoja, df in datos_hojas.items():\n",
    "    print(f\"Procesando hoja: {nombre_hoja}\")\n",
    "    \n",
    "    # Ejemplo de transformación\n",
    "    df = df.dropna(how='all')  # eliminar filas completamente vacías\n",
    "    df = df.fillna(0)          # reemplazar NaN por 0\n",
    "    df.columns = [col.strip().lower().replace(\" \", \"_\") for col in df.columns]  # limpiar nombres columnas\n",
    "\n",
    "    # Agregamos el DataFrame transformado al diccionario\n",
    "    datos_transformados[nombre_hoja] = df"
   ]
  },
  {
   "cell_type": "code",
   "execution_count": 20,
   "id": "f80249bf",
   "metadata": {},
   "outputs": [
    {
     "data": {
      "application/vnd.microsoft.datawrangler.viewer.v0+json": {
       "columns": [
        {
         "name": "index",
         "rawType": "int64",
         "type": "integer"
        },
        {
         "name": "nombre_de_los_miembros",
         "rawType": "object",
         "type": "string"
        },
        {
         "name": "id",
         "rawType": "object",
         "type": "string"
        },
        {
         "name": "salario-cargo",
         "rawType": "object",
         "type": "string"
        },
        {
         "name": "fecha_nacimiento",
         "rawType": "datetime64[ns]",
         "type": "datetime"
        },
        {
         "name": "edad",
         "rawType": "int64",
         "type": "integer"
        },
        {
         "name": "sexo",
         "rawType": "object",
         "type": "string"
        },
        {
         "name": "fecha_de_contratación",
         "rawType": "datetime64[ns]",
         "type": "datetime"
        },
        {
         "name": "fecha_salida",
         "rawType": "float64",
         "type": "float"
        },
        {
         "name": "status_do_integrante",
         "rawType": "object",
         "type": "string"
        },
        {
         "name": "departamento",
         "rawType": "object",
         "type": "string"
        },
        {
         "name": "reclutamiento_de_fuentes",
         "rawType": "object",
         "type": "string"
        },
        {
         "name": "registro_de_desempeño",
         "rawType": "object",
         "type": "string"
        },
        {
         "name": "índice_de_satisfacción",
         "rawType": "float64",
         "type": "float"
        }
       ],
       "ref": "0e03e658-5507-4776-8b69-30d83d33c190",
       "rows": [
        [
         "0",
         "Isis",
         "A1304055947",
         "5060-Técnico de Producción I",
         "1982-05-21 00:00:00",
         "38",
         "F",
         "2015-09-01 00:00:00",
         "0.0",
         "Ativo",
         "dpt1",
         "Página Web compañía",
         "Arriba",
         "5.0"
        ],
        [
         "1",
         "Emanuel",
         "A1109029366",
         "3520-Técnico de Producción I",
         "1975-12-21 00:00:00",
         "45",
         "M",
         "2015-02-03 00:00:00",
         "0.0",
         "Ativo",
         "dpt1",
         "Recomendación empleados",
         "Dentro de lo esperado",
         "3.0"
        ],
        [
         "2",
         "Vinícius",
         "A1501072124",
         "4400-Técnico de Producción I",
         "1972-04-17 00:00:00",
         "49",
         "M",
         "2017-07-06 00:00:00",
         "0.0",
         "Ativo",
         "dpt1",
         "Sitio web de empleo",
         "Abajo de lo esperado",
         "2.0"
        ],
        [
         "3",
         "João Guilherme",
         "A1302053339",
         "3960-Técnico de Producción I",
         "1994-10-17 00:00:00",
         "26",
         "M",
         "2018-11-04 00:00:00",
         "0.0",
         "Ativo",
         "dpt1",
         "Sitio web de empleo",
         "Abajo de lo esperado",
         "4.0"
        ],
        [
         "4",
         "Luna",
         "A1204032927",
         "3520-Técnico de Producción I",
         "1985-08-04 00:00:00",
         "35",
         "F",
         "2017-09-28 00:00:00",
         "0.0",
         "Ativo",
         "dpt1",
         "Feria de contratación",
         "Arriba",
         "4.0"
        ]
       ],
       "shape": {
        "columns": 13,
        "rows": 5
       }
      },
      "text/html": [
       "<div>\n",
       "<style scoped>\n",
       "    .dataframe tbody tr th:only-of-type {\n",
       "        vertical-align: middle;\n",
       "    }\n",
       "\n",
       "    .dataframe tbody tr th {\n",
       "        vertical-align: top;\n",
       "    }\n",
       "\n",
       "    .dataframe thead th {\n",
       "        text-align: right;\n",
       "    }\n",
       "</style>\n",
       "<table border=\"1\" class=\"dataframe\">\n",
       "  <thead>\n",
       "    <tr style=\"text-align: right;\">\n",
       "      <th></th>\n",
       "      <th>nombre_de_los_miembros</th>\n",
       "      <th>id</th>\n",
       "      <th>salario-cargo</th>\n",
       "      <th>fecha_nacimiento</th>\n",
       "      <th>edad</th>\n",
       "      <th>sexo</th>\n",
       "      <th>fecha_de_contratación</th>\n",
       "      <th>fecha_salida</th>\n",
       "      <th>status_do_integrante</th>\n",
       "      <th>departamento</th>\n",
       "      <th>reclutamiento_de_fuentes</th>\n",
       "      <th>registro_de_desempeño</th>\n",
       "      <th>índice_de_satisfacción</th>\n",
       "    </tr>\n",
       "  </thead>\n",
       "  <tbody>\n",
       "    <tr>\n",
       "      <th>0</th>\n",
       "      <td>Isis</td>\n",
       "      <td>A1304055947</td>\n",
       "      <td>5060-Técnico de Producción I</td>\n",
       "      <td>1982-05-21</td>\n",
       "      <td>38</td>\n",
       "      <td>F</td>\n",
       "      <td>2015-09-01</td>\n",
       "      <td>0.0</td>\n",
       "      <td>Ativo</td>\n",
       "      <td>dpt1</td>\n",
       "      <td>Página Web compañía</td>\n",
       "      <td>Arriba</td>\n",
       "      <td>5.0</td>\n",
       "    </tr>\n",
       "    <tr>\n",
       "      <th>1</th>\n",
       "      <td>Emanuel</td>\n",
       "      <td>A1109029366</td>\n",
       "      <td>3520-Técnico de Producción I</td>\n",
       "      <td>1975-12-21</td>\n",
       "      <td>45</td>\n",
       "      <td>M</td>\n",
       "      <td>2015-02-03</td>\n",
       "      <td>0.0</td>\n",
       "      <td>Ativo</td>\n",
       "      <td>dpt1</td>\n",
       "      <td>Recomendación empleados</td>\n",
       "      <td>Dentro de lo esperado</td>\n",
       "      <td>3.0</td>\n",
       "    </tr>\n",
       "    <tr>\n",
       "      <th>2</th>\n",
       "      <td>Vinícius</td>\n",
       "      <td>A1501072124</td>\n",
       "      <td>4400-Técnico de Producción I</td>\n",
       "      <td>1972-04-17</td>\n",
       "      <td>49</td>\n",
       "      <td>M</td>\n",
       "      <td>2017-07-06</td>\n",
       "      <td>0.0</td>\n",
       "      <td>Ativo</td>\n",
       "      <td>dpt1</td>\n",
       "      <td>Sitio web de empleo</td>\n",
       "      <td>Abajo de lo esperado</td>\n",
       "      <td>2.0</td>\n",
       "    </tr>\n",
       "    <tr>\n",
       "      <th>3</th>\n",
       "      <td>João Guilherme</td>\n",
       "      <td>A1302053339</td>\n",
       "      <td>3960-Técnico de Producción I</td>\n",
       "      <td>1994-10-17</td>\n",
       "      <td>26</td>\n",
       "      <td>M</td>\n",
       "      <td>2018-11-04</td>\n",
       "      <td>0.0</td>\n",
       "      <td>Ativo</td>\n",
       "      <td>dpt1</td>\n",
       "      <td>Sitio web de empleo</td>\n",
       "      <td>Abajo de lo esperado</td>\n",
       "      <td>4.0</td>\n",
       "    </tr>\n",
       "    <tr>\n",
       "      <th>4</th>\n",
       "      <td>Luna</td>\n",
       "      <td>A1204032927</td>\n",
       "      <td>3520-Técnico de Producción I</td>\n",
       "      <td>1985-08-04</td>\n",
       "      <td>35</td>\n",
       "      <td>F</td>\n",
       "      <td>2017-09-28</td>\n",
       "      <td>0.0</td>\n",
       "      <td>Ativo</td>\n",
       "      <td>dpt1</td>\n",
       "      <td>Feria de contratación</td>\n",
       "      <td>Arriba</td>\n",
       "      <td>4.0</td>\n",
       "    </tr>\n",
       "  </tbody>\n",
       "</table>\n",
       "</div>"
      ],
      "text/plain": [
       "  nombre_de_los_miembros           id                 salario-cargo  \\\n",
       "0                   Isis  A1304055947  5060-Técnico de Producción I   \n",
       "1                Emanuel  A1109029366  3520-Técnico de Producción I   \n",
       "2               Vinícius  A1501072124  4400-Técnico de Producción I   \n",
       "3         João Guilherme  A1302053339  3960-Técnico de Producción I   \n",
       "4                   Luna  A1204032927  3520-Técnico de Producción I   \n",
       "\n",
       "  fecha_nacimiento  edad sexo fecha_de_contratación  fecha_salida  \\\n",
       "0       1982-05-21    38    F            2015-09-01           0.0   \n",
       "1       1975-12-21    45    M            2015-02-03           0.0   \n",
       "2       1972-04-17    49    M            2017-07-06           0.0   \n",
       "3       1994-10-17    26    M            2018-11-04           0.0   \n",
       "4       1985-08-04    35    F            2017-09-28           0.0   \n",
       "\n",
       "  status_do_integrante departamento reclutamiento_de_fuentes  \\\n",
       "0                Ativo         dpt1      Página Web compañía   \n",
       "1                Ativo         dpt1  Recomendación empleados   \n",
       "2                Ativo         dpt1      Sitio web de empleo   \n",
       "3                Ativo         dpt1      Sitio web de empleo   \n",
       "4                Ativo         dpt1    Feria de contratación   \n",
       "\n",
       "   registro_de_desempeño  índice_de_satisfacción  \n",
       "0                 Arriba                     5.0  \n",
       "1  Dentro de lo esperado                     3.0  \n",
       "2   Abajo de lo esperado                     2.0  \n",
       "3   Abajo de lo esperado                     4.0  \n",
       "4                 Arriba                     4.0  "
      ]
     },
     "execution_count": 20,
     "metadata": {},
     "output_type": "execute_result"
    }
   ],
   "source": [
    "datos_transformados['integrantes'].head()"
   ]
  },
  {
   "cell_type": "code",
   "execution_count": 14,
   "id": "e5666aae",
   "metadata": {},
   "outputs": [
    {
     "data": {
      "application/vnd.microsoft.datawrangler.viewer.v0+json": {
       "columns": [
        {
         "name": "index",
         "rawType": "int64",
         "type": "integer"
        },
        {
         "name": "cod_departamento",
         "rawType": "object",
         "type": "string"
        },
        {
         "name": "departamento",
         "rawType": "object",
         "type": "string"
        },
        {
         "name": "gerente",
         "rawType": "object",
         "type": "string"
        }
       ],
       "ref": "1031e436-c484-4868-97d0-34f072e2bf74",
       "rows": [
        [
         "0",
         "dpt1",
         "Producción",
         "Robson R."
        ],
        [
         "1",
         "dpt2",
         "Ventas",
         "Julia S."
        ],
        [
         "2",
         "dpt3",
         "Administrativo",
         "Ana C."
        ],
        [
         "3",
         "dpt4",
         "TI",
         "Vinicius R. "
        ]
       ],
       "shape": {
        "columns": 3,
        "rows": 4
       }
      },
      "text/html": [
       "<div>\n",
       "<style scoped>\n",
       "    .dataframe tbody tr th:only-of-type {\n",
       "        vertical-align: middle;\n",
       "    }\n",
       "\n",
       "    .dataframe tbody tr th {\n",
       "        vertical-align: top;\n",
       "    }\n",
       "\n",
       "    .dataframe thead th {\n",
       "        text-align: right;\n",
       "    }\n",
       "</style>\n",
       "<table border=\"1\" class=\"dataframe\">\n",
       "  <thead>\n",
       "    <tr style=\"text-align: right;\">\n",
       "      <th></th>\n",
       "      <th>cod_departamento</th>\n",
       "      <th>departamento</th>\n",
       "      <th>gerente</th>\n",
       "    </tr>\n",
       "  </thead>\n",
       "  <tbody>\n",
       "    <tr>\n",
       "      <th>0</th>\n",
       "      <td>dpt1</td>\n",
       "      <td>Producción</td>\n",
       "      <td>Robson R.</td>\n",
       "    </tr>\n",
       "    <tr>\n",
       "      <th>1</th>\n",
       "      <td>dpt2</td>\n",
       "      <td>Ventas</td>\n",
       "      <td>Julia S.</td>\n",
       "    </tr>\n",
       "    <tr>\n",
       "      <th>2</th>\n",
       "      <td>dpt3</td>\n",
       "      <td>Administrativo</td>\n",
       "      <td>Ana C.</td>\n",
       "    </tr>\n",
       "    <tr>\n",
       "      <th>3</th>\n",
       "      <td>dpt4</td>\n",
       "      <td>TI</td>\n",
       "      <td>Vinicius R.</td>\n",
       "    </tr>\n",
       "  </tbody>\n",
       "</table>\n",
       "</div>"
      ],
      "text/plain": [
       "  cod_departamento    departamento       gerente\n",
       "0             dpt1      Producción     Robson R.\n",
       "1             dpt2          Ventas      Julia S.\n",
       "2             dpt3  Administrativo        Ana C.\n",
       "3             dpt4              TI  Vinicius R. "
      ]
     },
     "execution_count": 14,
     "metadata": {},
     "output_type": "execute_result"
    }
   ],
   "source": [
    "datos_transformados['departamentos'].head()"
   ]
  },
  {
   "cell_type": "code",
   "execution_count": 25,
   "id": "6e7ff37e",
   "metadata": {},
   "outputs": [
    {
     "data": {
      "application/vnd.microsoft.datawrangler.viewer.v0+json": {
       "columns": [
        {
         "name": "index",
         "rawType": "int64",
         "type": "integer"
        },
        {
         "name": "nombre_de_los_miembros",
         "rawType": "object",
         "type": "string"
        },
        {
         "name": "id",
         "rawType": "object",
         "type": "string"
        },
        {
         "name": "salario-cargo",
         "rawType": "object",
         "type": "string"
        },
        {
         "name": "fecha_nacimiento",
         "rawType": "datetime64[ns]",
         "type": "datetime"
        },
        {
         "name": "edad",
         "rawType": "int64",
         "type": "integer"
        },
        {
         "name": "sexo",
         "rawType": "object",
         "type": "string"
        },
        {
         "name": "fecha_de_contratación",
         "rawType": "datetime64[ns]",
         "type": "datetime"
        },
        {
         "name": "fecha_salida",
         "rawType": "float64",
         "type": "float"
        },
        {
         "name": "status_do_integrante",
         "rawType": "object",
         "type": "string"
        },
        {
         "name": "departamento",
         "rawType": "object",
         "type": "string"
        },
        {
         "name": "reclutamiento_de_fuentes",
         "rawType": "object",
         "type": "string"
        },
        {
         "name": "registro_de_desempeño",
         "rawType": "object",
         "type": "string"
        },
        {
         "name": "índice_de_satisfacción",
         "rawType": "float64",
         "type": "float"
        }
       ],
       "ref": "526846c2-63c5-469b-8c7f-6a5c4597c6a2",
       "rows": [
        [
         "0",
         "Isis",
         "A1304055947",
         "5060-Técnico de Producción I",
         "1982-05-21 00:00:00",
         "38",
         "F",
         "2015-09-01 00:00:00",
         "0.0",
         "Activo",
         "dpt1",
         "Página Web compañía",
         "Arriba",
         "5.0"
        ],
        [
         "1",
         "Emanuel",
         "A1109029366",
         "3520-Técnico de Producción I",
         "1975-12-21 00:00:00",
         "45",
         "M",
         "2015-02-03 00:00:00",
         "0.0",
         "Activo",
         "dpt1",
         "Recomendación empleados",
         "Dentro de lo esperado",
         "3.0"
        ],
        [
         "2",
         "Vinícius",
         "A1501072124",
         "4400-Técnico de Producción I",
         "1972-04-17 00:00:00",
         "49",
         "M",
         "2017-07-06 00:00:00",
         "0.0",
         "Activo",
         "dpt1",
         "Sitio web de empleo",
         "Abajo de lo esperado",
         "2.0"
        ],
        [
         "3",
         "João Guilherme",
         "A1302053339",
         "3960-Técnico de Producción I",
         "1994-10-17 00:00:00",
         "26",
         "M",
         "2018-11-04 00:00:00",
         "0.0",
         "Activo",
         "dpt1",
         "Sitio web de empleo",
         "Abajo de lo esperado",
         "4.0"
        ],
        [
         "4",
         "Luna",
         "A1204032927",
         "3520-Técnico de Producción I",
         "1985-08-04 00:00:00",
         "35",
         "F",
         "2017-09-28 00:00:00",
         "0.0",
         "Activo",
         "dpt1",
         "Feria de contratación",
         "Arriba",
         "4.0"
        ]
       ],
       "shape": {
        "columns": 13,
        "rows": 5
       }
      },
      "text/html": [
       "<div>\n",
       "<style scoped>\n",
       "    .dataframe tbody tr th:only-of-type {\n",
       "        vertical-align: middle;\n",
       "    }\n",
       "\n",
       "    .dataframe tbody tr th {\n",
       "        vertical-align: top;\n",
       "    }\n",
       "\n",
       "    .dataframe thead th {\n",
       "        text-align: right;\n",
       "    }\n",
       "</style>\n",
       "<table border=\"1\" class=\"dataframe\">\n",
       "  <thead>\n",
       "    <tr style=\"text-align: right;\">\n",
       "      <th></th>\n",
       "      <th>nombre_de_los_miembros</th>\n",
       "      <th>id</th>\n",
       "      <th>salario-cargo</th>\n",
       "      <th>fecha_nacimiento</th>\n",
       "      <th>edad</th>\n",
       "      <th>sexo</th>\n",
       "      <th>fecha_de_contratación</th>\n",
       "      <th>fecha_salida</th>\n",
       "      <th>status_do_integrante</th>\n",
       "      <th>departamento</th>\n",
       "      <th>reclutamiento_de_fuentes</th>\n",
       "      <th>registro_de_desempeño</th>\n",
       "      <th>índice_de_satisfacción</th>\n",
       "    </tr>\n",
       "  </thead>\n",
       "  <tbody>\n",
       "    <tr>\n",
       "      <th>0</th>\n",
       "      <td>Isis</td>\n",
       "      <td>A1304055947</td>\n",
       "      <td>5060-Técnico de Producción I</td>\n",
       "      <td>1982-05-21</td>\n",
       "      <td>38</td>\n",
       "      <td>F</td>\n",
       "      <td>2015-09-01</td>\n",
       "      <td>0.0</td>\n",
       "      <td>Activo</td>\n",
       "      <td>dpt1</td>\n",
       "      <td>Página Web compañía</td>\n",
       "      <td>Arriba</td>\n",
       "      <td>5.0</td>\n",
       "    </tr>\n",
       "    <tr>\n",
       "      <th>1</th>\n",
       "      <td>Emanuel</td>\n",
       "      <td>A1109029366</td>\n",
       "      <td>3520-Técnico de Producción I</td>\n",
       "      <td>1975-12-21</td>\n",
       "      <td>45</td>\n",
       "      <td>M</td>\n",
       "      <td>2015-02-03</td>\n",
       "      <td>0.0</td>\n",
       "      <td>Activo</td>\n",
       "      <td>dpt1</td>\n",
       "      <td>Recomendación empleados</td>\n",
       "      <td>Dentro de lo esperado</td>\n",
       "      <td>3.0</td>\n",
       "    </tr>\n",
       "    <tr>\n",
       "      <th>2</th>\n",
       "      <td>Vinícius</td>\n",
       "      <td>A1501072124</td>\n",
       "      <td>4400-Técnico de Producción I</td>\n",
       "      <td>1972-04-17</td>\n",
       "      <td>49</td>\n",
       "      <td>M</td>\n",
       "      <td>2017-07-06</td>\n",
       "      <td>0.0</td>\n",
       "      <td>Activo</td>\n",
       "      <td>dpt1</td>\n",
       "      <td>Sitio web de empleo</td>\n",
       "      <td>Abajo de lo esperado</td>\n",
       "      <td>2.0</td>\n",
       "    </tr>\n",
       "    <tr>\n",
       "      <th>3</th>\n",
       "      <td>João Guilherme</td>\n",
       "      <td>A1302053339</td>\n",
       "      <td>3960-Técnico de Producción I</td>\n",
       "      <td>1994-10-17</td>\n",
       "      <td>26</td>\n",
       "      <td>M</td>\n",
       "      <td>2018-11-04</td>\n",
       "      <td>0.0</td>\n",
       "      <td>Activo</td>\n",
       "      <td>dpt1</td>\n",
       "      <td>Sitio web de empleo</td>\n",
       "      <td>Abajo de lo esperado</td>\n",
       "      <td>4.0</td>\n",
       "    </tr>\n",
       "    <tr>\n",
       "      <th>4</th>\n",
       "      <td>Luna</td>\n",
       "      <td>A1204032927</td>\n",
       "      <td>3520-Técnico de Producción I</td>\n",
       "      <td>1985-08-04</td>\n",
       "      <td>35</td>\n",
       "      <td>F</td>\n",
       "      <td>2017-09-28</td>\n",
       "      <td>0.0</td>\n",
       "      <td>Activo</td>\n",
       "      <td>dpt1</td>\n",
       "      <td>Feria de contratación</td>\n",
       "      <td>Arriba</td>\n",
       "      <td>4.0</td>\n",
       "    </tr>\n",
       "  </tbody>\n",
       "</table>\n",
       "</div>"
      ],
      "text/plain": [
       "  nombre_de_los_miembros           id                 salario-cargo  \\\n",
       "0                   Isis  A1304055947  5060-Técnico de Producción I   \n",
       "1                Emanuel  A1109029366  3520-Técnico de Producción I   \n",
       "2               Vinícius  A1501072124  4400-Técnico de Producción I   \n",
       "3         João Guilherme  A1302053339  3960-Técnico de Producción I   \n",
       "4                   Luna  A1204032927  3520-Técnico de Producción I   \n",
       "\n",
       "  fecha_nacimiento  edad sexo fecha_de_contratación  fecha_salida  \\\n",
       "0       1982-05-21    38    F            2015-09-01           0.0   \n",
       "1       1975-12-21    45    M            2015-02-03           0.0   \n",
       "2       1972-04-17    49    M            2017-07-06           0.0   \n",
       "3       1994-10-17    26    M            2018-11-04           0.0   \n",
       "4       1985-08-04    35    F            2017-09-28           0.0   \n",
       "\n",
       "  status_do_integrante departamento reclutamiento_de_fuentes  \\\n",
       "0               Activo         dpt1      Página Web compañía   \n",
       "1               Activo         dpt1  Recomendación empleados   \n",
       "2               Activo         dpt1      Sitio web de empleo   \n",
       "3               Activo         dpt1      Sitio web de empleo   \n",
       "4               Activo         dpt1    Feria de contratación   \n",
       "\n",
       "   registro_de_desempeño  índice_de_satisfacción  \n",
       "0                 Arriba                     5.0  \n",
       "1  Dentro de lo esperado                     3.0  \n",
       "2   Abajo de lo esperado                     2.0  \n",
       "3   Abajo de lo esperado                     4.0  \n",
       "4                 Arriba                     4.0  "
      ]
     },
     "execution_count": 25,
     "metadata": {},
     "output_type": "execute_result"
    }
   ],
   "source": [
    "datos_transformados['integrantes']['status_do_integrante'] = datos_transformados['integrantes']['status_do_integrante'].replace({'Ativo' : 'Activo'}) \n",
    "datos_transformados['integrantes'].head()"
   ]
  },
  {
   "cell_type": "code",
   "execution_count": 28,
   "id": "d3cf78aa",
   "metadata": {},
   "outputs": [],
   "source": [
    "datos_transformados['integrantes'] = datos_transformados['integrantes'].drop(columns=['status_do_integrante', 'fecha_salida'], axis=1)"
   ]
  },
  {
   "cell_type": "code",
   "execution_count": 29,
   "id": "b2983295",
   "metadata": {},
   "outputs": [],
   "source": [
    "datos_transformados['integrantes']['registro_de_desempeño'] = datos_transformados['integrantes']['registro_de_desempeño'].replace({'Arriba' : 'Arriba de lo esperado'})"
   ]
  },
  {
   "cell_type": "code",
   "execution_count": 35,
   "id": "8ccc3f27",
   "metadata": {},
   "outputs": [],
   "source": [
    "datos_transformados['integrantes'][['Salario', 'Cargo']] = datos_transformados['integrantes']['salario-cargo'].str.split('-', expand=True)\n"
   ]
  },
  {
   "cell_type": "code",
   "execution_count": 38,
   "id": "e63c053e",
   "metadata": {},
   "outputs": [],
   "source": [
    "datos_transformados['integrantes'] = datos_transformados['integrantes'].drop(columns=['salario-cargo'], axis=1)"
   ]
  },
  {
   "cell_type": "code",
   "execution_count": 49,
   "id": "3e219a78",
   "metadata": {},
   "outputs": [
    {
     "data": {
      "application/vnd.microsoft.datawrangler.viewer.v0+json": {
       "columns": [
        {
         "name": "index",
         "rawType": "int64",
         "type": "integer"
        },
        {
         "name": "nombre de los miembros",
         "rawType": "object",
         "type": "string"
        },
        {
         "name": "id",
         "rawType": "object",
         "type": "string"
        },
        {
         "name": "fecha de nacimiento",
         "rawType": "datetime64[ns]",
         "type": "datetime"
        },
        {
         "name": "edad",
         "rawType": "int64",
         "type": "integer"
        },
        {
         "name": "sexo",
         "rawType": "object",
         "type": "string"
        },
        {
         "name": "fecha de contratación",
         "rawType": "datetime64[ns]",
         "type": "datetime"
        },
        {
         "name": "departamento",
         "rawType": "object",
         "type": "string"
        },
        {
         "name": "fuentes de reclutamiento",
         "rawType": "object",
         "type": "string"
        },
        {
         "name": "registro de desempeño",
         "rawType": "object",
         "type": "string"
        },
        {
         "name": "índice de satisfacción",
         "rawType": "float64",
         "type": "float"
        },
        {
         "name": "salario",
         "rawType": "object",
         "type": "string"
        },
        {
         "name": "cargo",
         "rawType": "object",
         "type": "string"
        }
       ],
       "ref": "f391d231-7956-4994-9d5b-5afdb9301a09",
       "rows": [
        [
         "0",
         "Isis",
         "A1304055947",
         "1982-05-21 00:00:00",
         "38",
         "F",
         "2015-09-01 00:00:00",
         "dpt1",
         "Página Web compañía",
         "Arriba de lo esperado",
         "5.0",
         "5060",
         "Técnico de Producción I"
        ],
        [
         "1",
         "Emanuel",
         "A1109029366",
         "1975-12-21 00:00:00",
         "45",
         "M",
         "2015-02-03 00:00:00",
         "dpt1",
         "Recomendación empleados",
         "Dentro de lo esperado",
         "3.0",
         "3520",
         "Técnico de Producción I"
        ],
        [
         "2",
         "Vinícius",
         "A1501072124",
         "1972-04-17 00:00:00",
         "49",
         "M",
         "2017-07-06 00:00:00",
         "dpt1",
         "Sitio web de empleo",
         "Abajo de lo esperado",
         "2.0",
         "4400",
         "Técnico de Producción I"
        ],
        [
         "3",
         "João Guilherme",
         "A1302053339",
         "1994-10-17 00:00:00",
         "26",
         "M",
         "2018-11-04 00:00:00",
         "dpt1",
         "Sitio web de empleo",
         "Abajo de lo esperado",
         "4.0",
         "3960",
         "Técnico de Producción I"
        ],
        [
         "4",
         "Luna",
         "A1204032927",
         "1985-08-04 00:00:00",
         "35",
         "F",
         "2017-09-28 00:00:00",
         "dpt1",
         "Feria de contratación",
         "Arriba de lo esperado",
         "4.0",
         "3520",
         "Técnico de Producción I"
        ]
       ],
       "shape": {
        "columns": 12,
        "rows": 5
       }
      },
      "text/html": [
       "<div>\n",
       "<style scoped>\n",
       "    .dataframe tbody tr th:only-of-type {\n",
       "        vertical-align: middle;\n",
       "    }\n",
       "\n",
       "    .dataframe tbody tr th {\n",
       "        vertical-align: top;\n",
       "    }\n",
       "\n",
       "    .dataframe thead th {\n",
       "        text-align: right;\n",
       "    }\n",
       "</style>\n",
       "<table border=\"1\" class=\"dataframe\">\n",
       "  <thead>\n",
       "    <tr style=\"text-align: right;\">\n",
       "      <th></th>\n",
       "      <th>nombre de los miembros</th>\n",
       "      <th>id</th>\n",
       "      <th>fecha de nacimiento</th>\n",
       "      <th>edad</th>\n",
       "      <th>sexo</th>\n",
       "      <th>fecha de contratación</th>\n",
       "      <th>departamento</th>\n",
       "      <th>fuentes de reclutamiento</th>\n",
       "      <th>registro de desempeño</th>\n",
       "      <th>índice de satisfacción</th>\n",
       "      <th>salario</th>\n",
       "      <th>cargo</th>\n",
       "    </tr>\n",
       "  </thead>\n",
       "  <tbody>\n",
       "    <tr>\n",
       "      <th>0</th>\n",
       "      <td>Isis</td>\n",
       "      <td>A1304055947</td>\n",
       "      <td>1982-05-21</td>\n",
       "      <td>38</td>\n",
       "      <td>F</td>\n",
       "      <td>2015-09-01</td>\n",
       "      <td>dpt1</td>\n",
       "      <td>Página Web compañía</td>\n",
       "      <td>Arriba de lo esperado</td>\n",
       "      <td>5.0</td>\n",
       "      <td>5060</td>\n",
       "      <td>Técnico de Producción I</td>\n",
       "    </tr>\n",
       "    <tr>\n",
       "      <th>1</th>\n",
       "      <td>Emanuel</td>\n",
       "      <td>A1109029366</td>\n",
       "      <td>1975-12-21</td>\n",
       "      <td>45</td>\n",
       "      <td>M</td>\n",
       "      <td>2015-02-03</td>\n",
       "      <td>dpt1</td>\n",
       "      <td>Recomendación empleados</td>\n",
       "      <td>Dentro de lo esperado</td>\n",
       "      <td>3.0</td>\n",
       "      <td>3520</td>\n",
       "      <td>Técnico de Producción I</td>\n",
       "    </tr>\n",
       "    <tr>\n",
       "      <th>2</th>\n",
       "      <td>Vinícius</td>\n",
       "      <td>A1501072124</td>\n",
       "      <td>1972-04-17</td>\n",
       "      <td>49</td>\n",
       "      <td>M</td>\n",
       "      <td>2017-07-06</td>\n",
       "      <td>dpt1</td>\n",
       "      <td>Sitio web de empleo</td>\n",
       "      <td>Abajo de lo esperado</td>\n",
       "      <td>2.0</td>\n",
       "      <td>4400</td>\n",
       "      <td>Técnico de Producción I</td>\n",
       "    </tr>\n",
       "    <tr>\n",
       "      <th>3</th>\n",
       "      <td>João Guilherme</td>\n",
       "      <td>A1302053339</td>\n",
       "      <td>1994-10-17</td>\n",
       "      <td>26</td>\n",
       "      <td>M</td>\n",
       "      <td>2018-11-04</td>\n",
       "      <td>dpt1</td>\n",
       "      <td>Sitio web de empleo</td>\n",
       "      <td>Abajo de lo esperado</td>\n",
       "      <td>4.0</td>\n",
       "      <td>3960</td>\n",
       "      <td>Técnico de Producción I</td>\n",
       "    </tr>\n",
       "    <tr>\n",
       "      <th>4</th>\n",
       "      <td>Luna</td>\n",
       "      <td>A1204032927</td>\n",
       "      <td>1985-08-04</td>\n",
       "      <td>35</td>\n",
       "      <td>F</td>\n",
       "      <td>2017-09-28</td>\n",
       "      <td>dpt1</td>\n",
       "      <td>Feria de contratación</td>\n",
       "      <td>Arriba de lo esperado</td>\n",
       "      <td>4.0</td>\n",
       "      <td>3520</td>\n",
       "      <td>Técnico de Producción I</td>\n",
       "    </tr>\n",
       "  </tbody>\n",
       "</table>\n",
       "</div>"
      ],
      "text/plain": [
       "  nombre de los miembros           id fecha de nacimiento  edad sexo  \\\n",
       "0                   Isis  A1304055947          1982-05-21    38    F   \n",
       "1                Emanuel  A1109029366          1975-12-21    45    M   \n",
       "2               Vinícius  A1501072124          1972-04-17    49    M   \n",
       "3         João Guilherme  A1302053339          1994-10-17    26    M   \n",
       "4                   Luna  A1204032927          1985-08-04    35    F   \n",
       "\n",
       "  fecha de contratación departamento fuentes de reclutamiento  \\\n",
       "0            2015-09-01         dpt1      Página Web compañía   \n",
       "1            2015-02-03         dpt1  Recomendación empleados   \n",
       "2            2017-07-06         dpt1      Sitio web de empleo   \n",
       "3            2018-11-04         dpt1      Sitio web de empleo   \n",
       "4            2017-09-28         dpt1    Feria de contratación   \n",
       "\n",
       "   registro de desempeño  índice de satisfacción salario  \\\n",
       "0  Arriba de lo esperado                     5.0    5060   \n",
       "1  Dentro de lo esperado                     3.0    3520   \n",
       "2   Abajo de lo esperado                     2.0    4400   \n",
       "3   Abajo de lo esperado                     4.0    3960   \n",
       "4  Arriba de lo esperado                     4.0    3520   \n",
       "\n",
       "                     cargo  \n",
       "0  Técnico de Producción I  \n",
       "1  Técnico de Producción I  \n",
       "2  Técnico de Producción I  \n",
       "3  Técnico de Producción I  \n",
       "4  Técnico de Producción I  "
      ]
     },
     "execution_count": 49,
     "metadata": {},
     "output_type": "execute_result"
    }
   ],
   "source": [
    "datos_transformados['integrantes'].head()"
   ]
  },
  {
   "cell_type": "code",
   "execution_count": 45,
   "id": "b7a33411",
   "metadata": {},
   "outputs": [
    {
     "data": {
      "application/vnd.microsoft.datawrangler.viewer.v0+json": {
       "columns": [
        {
         "name": "index",
         "rawType": "int64",
         "type": "integer"
        },
        {
         "name": "cod departamento",
         "rawType": "object",
         "type": "string"
        },
        {
         "name": "departamento",
         "rawType": "object",
         "type": "string"
        },
        {
         "name": "gerente",
         "rawType": "object",
         "type": "string"
        }
       ],
       "ref": "8592bedf-c057-4e5c-bfbd-f4cb65811c26",
       "rows": [
        [
         "0",
         "dpt1",
         "Producción",
         "Robson R."
        ],
        [
         "1",
         "dpt2",
         "Ventas",
         "Julia S."
        ],
        [
         "2",
         "dpt3",
         "Administrativo",
         "Ana C."
        ],
        [
         "3",
         "dpt4",
         "TI",
         "Vinicius R. "
        ]
       ],
       "shape": {
        "columns": 3,
        "rows": 4
       }
      },
      "text/html": [
       "<div>\n",
       "<style scoped>\n",
       "    .dataframe tbody tr th:only-of-type {\n",
       "        vertical-align: middle;\n",
       "    }\n",
       "\n",
       "    .dataframe tbody tr th {\n",
       "        vertical-align: top;\n",
       "    }\n",
       "\n",
       "    .dataframe thead th {\n",
       "        text-align: right;\n",
       "    }\n",
       "</style>\n",
       "<table border=\"1\" class=\"dataframe\">\n",
       "  <thead>\n",
       "    <tr style=\"text-align: right;\">\n",
       "      <th></th>\n",
       "      <th>cod departamento</th>\n",
       "      <th>departamento</th>\n",
       "      <th>gerente</th>\n",
       "    </tr>\n",
       "  </thead>\n",
       "  <tbody>\n",
       "    <tr>\n",
       "      <th>0</th>\n",
       "      <td>dpt1</td>\n",
       "      <td>Producción</td>\n",
       "      <td>Robson R.</td>\n",
       "    </tr>\n",
       "    <tr>\n",
       "      <th>1</th>\n",
       "      <td>dpt2</td>\n",
       "      <td>Ventas</td>\n",
       "      <td>Julia S.</td>\n",
       "    </tr>\n",
       "    <tr>\n",
       "      <th>2</th>\n",
       "      <td>dpt3</td>\n",
       "      <td>Administrativo</td>\n",
       "      <td>Ana C.</td>\n",
       "    </tr>\n",
       "    <tr>\n",
       "      <th>3</th>\n",
       "      <td>dpt4</td>\n",
       "      <td>TI</td>\n",
       "      <td>Vinicius R.</td>\n",
       "    </tr>\n",
       "  </tbody>\n",
       "</table>\n",
       "</div>"
      ],
      "text/plain": [
       "  cod departamento    departamento       gerente\n",
       "0             dpt1      Producción     Robson R.\n",
       "1             dpt2          Ventas      Julia S.\n",
       "2             dpt3  Administrativo        Ana C.\n",
       "3             dpt4              TI  Vinicius R. "
      ]
     },
     "execution_count": 45,
     "metadata": {},
     "output_type": "execute_result"
    }
   ],
   "source": [
    "datos_transformados['departamentos'].head()"
   ]
  },
  {
   "cell_type": "code",
   "execution_count": 43,
   "id": "4dcc9331",
   "metadata": {},
   "outputs": [],
   "source": [
    "for nombre_hoja, df in datos_transformados.items():\n",
    "    df.columns = [col.strip().lower().replace(\"_\", \" \").replace(\"ã\", \"a\") for col in df.columns]\n"
   ]
  },
  {
   "cell_type": "markdown",
   "id": "0289f746",
   "metadata": {},
   "source": [
    "Renombramos los nombres de las columnas\n"
   ]
  },
  {
   "cell_type": "code",
   "execution_count": 48,
   "id": "0a3c2d5d",
   "metadata": {},
   "outputs": [],
   "source": [
    "datos_transformados['integrantes'] = datos_transformados['integrantes'].rename(columns={\n",
    "    'fecha nacimiento': 'fecha de nacimiento',\n",
    "    'reclutamiento de fuentes' : 'fuentes de reclutamiento'\n",
    "})"
   ]
  },
  {
   "cell_type": "code",
   "execution_count": 51,
   "id": "8240fe68",
   "metadata": {},
   "outputs": [],
   "source": [
    "# Exportar cada hoja transformada a un nuevo Excel\n",
    "with pd.ExcelWriter('output_ETL.xlsx', engine='openpyxl') as writer:\n",
    "    for nombre_hoja, df in datos_transformados.items():\n",
    "        df.to_excel(writer, sheet_name=nombre_hoja, index=False)"
   ]
  }
 ],
 "metadata": {
  "kernelspec": {
   "display_name": "Python 3",
   "language": "python",
   "name": "python3"
  },
  "language_info": {
   "codemirror_mode": {
    "name": "ipython",
    "version": 3
   },
   "file_extension": ".py",
   "mimetype": "text/x-python",
   "name": "python",
   "nbconvert_exporter": "python",
   "pygments_lexer": "ipython3",
   "version": "3.12.3"
  }
 },
 "nbformat": 4,
 "nbformat_minor": 5
}
